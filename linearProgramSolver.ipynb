{
 "cells": [
  {
   "cell_type": "code",
   "execution_count": 1,
   "metadata": {},
   "outputs": [],
   "source": [
    "import numpy as np\n",
    "from scipy.optimize import linprog"
   ]
  },
  {
   "cell_type": "markdown",
   "metadata": {},
   "source": [
    "### Solving for Game a)"
   ]
  },
  {
   "cell_type": "code",
   "execution_count": 7,
   "metadata": {},
   "outputs": [
    {
     "name": "stdout",
     "output_type": "stream",
     "text": [
      "Optimal value: -1.0 \n",
      "X: [0.38461538 0.46153846 0.15384615]\n"
     ]
    }
   ],
   "source": [
    "# Solving for beta\n",
    "\n",
    "# Standard form function to minimize\n",
    "c_beta = np.array([-1, -1, -1])\n",
    "\n",
    "# Upper bounds\n",
    "A_upper_beta = np.array([[3, -1, 2],\n",
    "[1, 2, -2]])\n",
    "b_upper_beta = np.array([1, 1])\n",
    " \n",
    "# Sum of strategies is 1\n",
    "A_eq_beta = np.array([[1, 1, 1]])\n",
    "b_eq_beta = np.array([1])\n",
    "\n",
    "res = linprog(c=c_beta, A_eq=A_eq_beta, b_eq=b_eq_beta, A_ub=A_upper_beta, b_ub=b_upper_beta,\n",
    "bounds=(0, None))\n",
    "print('Optimal value:', res.fun, '\\nX:', res.x)"
   ]
  },
  {
   "cell_type": "code",
   "execution_count": 12,
   "metadata": {},
   "outputs": [
    {
     "name": "stdout",
     "output_type": "stream",
     "text": [
      "Optimal value: 1.25 \n",
      "X: nan\n"
     ]
    }
   ],
   "source": [
    "# Solving for alpha\n",
    "\n",
    "# Standard form function to minimize\n",
    "c_alpha = np.array([1, 1])\n",
    "\n",
    "# Upper bounds\n",
    "A_upper_alpha = np.array([[-3, -1],\n",
    "[1, -2], [-2, 2]])\n",
    "b_upper_alpha = np.array([-1, -1, -1])\n",
    " \n",
    "# Sum of strategies is 1\n",
    "A_eq_alpha = np.array([[1, 1]])\n",
    "b_eq_alpha = np.array([1])\n",
    "\n",
    "res = linprog(c=c_alpha, A_eq=A_eq_alpha, b_eq=b_eq_alpha, A_ub=A_upper_alpha, b_ub=b_upper_alpha,\n",
    "bounds=(0, None))\n",
    "print('Optimal value:', res.fun, '\\nX:', res.x)"
   ]
  },
  {
   "cell_type": "markdown",
   "metadata": {},
   "source": [
    "### Solving for Game b)"
   ]
  },
  {
   "cell_type": "code",
   "execution_count": 14,
   "metadata": {},
   "outputs": [
    {
     "name": "stdout",
     "output_type": "stream",
     "text": [
      "Optimal value: 0.20000000000000007 \n",
      "X: nan\n"
     ]
    }
   ],
   "source": [
    "# Solving for beta\n",
    "\n",
    "# Standard form function to minimize\n",
    "c_beta2 = np.array([-1, -1, -1, -1])\n",
    "\n",
    "# Upper bounds\n",
    "A_upper_beta2 = np.array([[6, 0, 5, 6],\n",
    "[-3, 3, -4, 3], [8, 1, 2, 2]])\n",
    "b_upper_beta2 = np.array([1, 1, 1])\n",
    " \n",
    "# Sum of strategies is 1\n",
    "A_eq_beta2 = np.array([[1, 1, 1, 1]])\n",
    "b_eq_beta2 = np.array([1])\n",
    "\n",
    "res = linprog(c=c_beta2, A_eq=A_eq_beta2, b_eq=b_eq_beta2, A_ub=A_upper_beta2, b_ub=b_upper_beta2,\n",
    "bounds=(0, None))\n",
    "print('Optimal value:', res.fun, '\\nX:', res.x)"
   ]
  },
  {
   "cell_type": "code",
   "execution_count": 16,
   "metadata": {},
   "outputs": [
    {
     "name": "stdout",
     "output_type": "stream",
     "text": [
      "Optimal value: 0.9999999999999999 \n",
      "X: [0.         0.16666667 0.83333333]\n"
     ]
    }
   ],
   "source": [
    "# Solving for alpha\n",
    "\n",
    "# Standard form function to minimize\n",
    "c_alpha2 = np.array([1, 1, 1])\n",
    "\n",
    "# Upper bounds\n",
    "A_upper_alpha2 = np.array([[-6, 3, -8],\n",
    "[0, -3, -1], [-5, 4, -2], [-6, -3, -2]])\n",
    "b_upper_alpha2 = np.array([-1, -1, -1, -1])\n",
    " \n",
    "# Sum of strategies is 1\n",
    "A_eq_alpha2 = np.array([[1, 1, 1]])\n",
    "b_eq_alpha2 = np.array([1])\n",
    "\n",
    "res = linprog(c=c_alpha2, A_eq=A_eq_alpha2, b_eq=b_eq_alpha2, A_ub=A_upper_alpha2, b_ub=b_upper_alpha2,\n",
    "bounds=(0, None))\n",
    "print('Optimal value:', res.fun, '\\nX:', res.x)"
   ]
  }
 ],
 "metadata": {
  "kernelspec": {
   "display_name": "Python 3",
   "language": "python",
   "name": "python3"
  },
  "language_info": {
   "codemirror_mode": {
    "name": "ipython",
    "version": 3
   },
   "file_extension": ".py",
   "mimetype": "text/x-python",
   "name": "python",
   "nbconvert_exporter": "python",
   "pygments_lexer": "ipython3",
   "version": "3.7.1"
  }
 },
 "nbformat": 4,
 "nbformat_minor": 2
}
