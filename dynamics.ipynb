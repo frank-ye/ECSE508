{
 "cells": [
  {
   "cell_type": "markdown",
   "metadata": {},
   "source": [
    "### Evolutionary Dynamics Visualization"
   ]
  },
  {
   "cell_type": "code",
   "execution_count": 1,
   "metadata": {},
   "outputs": [],
   "source": [
    "import numpy as np\n",
    "import matplotlib.pyplot as plt"
   ]
  },
  {
   "cell_type": "code",
   "execution_count": 10,
   "metadata": {},
   "outputs": [],
   "source": [
    "# Utility matrix for 2 player symmetric game\n",
    "matrix = np.array([[0, 5, 4],\n",
    "                   [4, 0, 5],\n",
    "                   [5, 4, 0]])\n",
    "# Initial point\n",
    "x0 = np.array([0.25, 0.5, 0.25])\n",
    "\n",
    "# List of parameter nabla for logit dynamics\n",
    "nabla = np.array([0.01, 0.1, 1])"
   ]
  },
  {
   "cell_type": "markdown",
   "metadata": {},
   "source": [
    "#### a) Replicator Dynamics"
   ]
  },
  {
   "cell_type": "code",
   "execution_count": null,
   "metadata": {},
   "outputs": [],
   "source": [
    "x_init = x0\n",
    "max_iter = 100  # Set maximum number of iterations to run code for\n",
    "\n",
    "def replicator_dynamics(x_init, num_iter, matrix):\n",
    "    \"\"\" Function that returns list of replicator dynamic coordinates given an initial point\n",
    "\n",
    "    Args:\n",
    "        x_init: Starting point\n",
    "        max_iter: Number of iterations\n",
    "        matrix: symmetric game matrix\n",
    "\n",
    "    Returns:\n",
    "        List of x coordinates of length num_iter + 1\n",
    "\n",
    "    \"\"\"\n",
    "    coords = [x0]\n",
    "    x_current = x0\n",
    "    \n",
    "    for i in range(num_iter):\n",
    "        f = np.matmul(matrix, x_current) \n",
    "        avg_payoff = np.matmul(np.transpose(x_current), f)  # average payoff\n",
    "        f\n",
    "        x_dot = x_current * (f - bar)  # displacement vector\n",
    "        x_current += x_dot\n",
    "    \n",
    "\n",
    "    "
   ]
  }
 ],
 "metadata": {
  "kernelspec": {
   "display_name": "Python 3",
   "language": "python",
   "name": "python3"
  },
  "language_info": {
   "codemirror_mode": {
    "name": "ipython",
    "version": 3
   },
   "file_extension": ".py",
   "mimetype": "text/x-python",
   "name": "python",
   "nbconvert_exporter": "python",
   "pygments_lexer": "ipython3",
   "version": "3.6.8"
  }
 },
 "nbformat": 4,
 "nbformat_minor": 2
}
