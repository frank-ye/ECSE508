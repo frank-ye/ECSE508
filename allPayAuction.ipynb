{
 "cells": [
  {
   "cell_type": "markdown",
   "metadata": {},
   "source": [
    "### Optimal Crowdsourcing Contest Simulated as All-Pay Auctions"
   ]
  },
  {
   "cell_type": "code",
   "execution_count": 1,
   "metadata": {},
   "outputs": [],
   "source": [
    "import math\n",
    "import numpy as np"
   ]
  },
  {
   "cell_type": "code",
   "execution_count": 2,
   "metadata": {},
   "outputs": [],
   "source": [
    "def genPlayers(numPlayers):\n",
    "    \"\"\" Function that generates n samples over a uniform distribution, each sample serves as a player's private valuation\n",
    "    Args:\n",
    "        numPlayers: number of samples/players to generate\n",
    "    Returns:\n",
    "        numpy array of length numPlayers\n",
    "    \"\"\"\n",
    "    return np.random.uniform(size=numPlayers)"
   ]
  },
  {
   "cell_type": "code",
   "execution_count": 20,
   "metadata": {},
   "outputs": [],
   "source": [
    "def bidsFromValue(values, numPlayers):\n",
    "    \"\"\" Function returning bid value given numPlayers i.i.d sampling from uniform distribution, and minimum bid reserve\n",
    "    Args:\n",
    "        values: numpy array of players' private valuations\n",
    "        numPlayers: number of players\n",
    "    Returns:\n",
    "        list of float\n",
    "    \"\"\"\n",
    "    bids = []\n",
    "    # reserve = 1/(numPlayers+1)  # Optimal bid reserve is monopoly price\n",
    "    for v in values:\n",
    "        \n",
    "        bid = ((numPlayers -1)/numPlayers) * math.pow(v, numPlayers)\n",
    "        bids.append(bid)\n",
    "    return bids"
   ]
  },
  {
   "cell_type": "code",
   "execution_count": 21,
   "metadata": {},
   "outputs": [],
   "source": [
    "def allPayAuction(numPlayers):\n",
    "    \"\"\" Function simulating an all-pay auction\n",
    "    Args:\n",
    "        numPlayers: number of players in the auction\n",
    "    Returns:\n",
    "        \n",
    "    \"\"\"\n",
    "    playerVals = genPlayers(numPlayers)\n",
    "    playerBids = bidsFromValue(playerVals, numPlayers)\n",
    "    winnerIndex = playerBids.index(max(playerBids))\n",
    "    winnerBid = playerBids[winnerIndex]\n",
    "    sumOfLosers = 0\n",
    "    \n",
    "    for i in range(len(playerBids)):\n",
    "        if (i != winnerIndex):\n",
    "            sumOfLosers += playerBids[i]\n",
    "    return winnerBid, sumOfLosers"
   ]
  },
  {
   "cell_type": "code",
   "execution_count": 22,
   "metadata": {},
   "outputs": [
    {
     "name": "stdout",
     "output_type": "stream",
     "text": [
      "0.5626\n"
     ]
    }
   ],
   "source": [
    "iterations = 10000\n",
    "winCtr = 0\n",
    "for i in range(iterations):\n",
    "    W, L = allPayAuction(500)\n",
    "    if (W > L):\n",
    "        winCtr += 1\n",
    "winCtr /= iterations\n",
    "print(winCtr)"
   ]
  }
 ],
 "metadata": {
  "kernelspec": {
   "display_name": "Python 3",
   "language": "python",
   "name": "python3"
  },
  "language_info": {
   "codemirror_mode": {
    "name": "ipython",
    "version": 3
   },
   "file_extension": ".py",
   "mimetype": "text/x-python",
   "name": "python",
   "nbconvert_exporter": "python",
   "pygments_lexer": "ipython3",
   "version": "3.6.8"
  }
 },
 "nbformat": 4,
 "nbformat_minor": 2
}
