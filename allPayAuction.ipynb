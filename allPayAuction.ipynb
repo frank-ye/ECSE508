{
 "cells": [
  {
   "cell_type": "markdown",
   "metadata": {},
   "source": [
    "### Optimal Crowdsourcing Contest Simulated as All-Pay Auctions"
   ]
  },
  {
   "cell_type": "code",
   "execution_count": 32,
   "metadata": {},
   "outputs": [],
   "source": [
    "import math\n",
    "import numpy as np\n",
    "import matplotlib.pyplot as plt"
   ]
  },
  {
   "cell_type": "code",
   "execution_count": 2,
   "metadata": {},
   "outputs": [],
   "source": [
    "def genPlayers(numPlayers):\n",
    "    \"\"\" Function that generates n samples over a uniform distribution, each sample serves as a player's private valuation\n",
    "    Args:\n",
    "        numPlayers: number of samples/players to generate\n",
    "    Returns:\n",
    "        numpy array of length numPlayers\n",
    "    \"\"\"\n",
    "    return np.random.uniform(size=numPlayers)"
   ]
  },
  {
   "cell_type": "code",
   "execution_count": 20,
   "metadata": {},
   "outputs": [],
   "source": [
    "def bidsFromValue(values, numPlayers):\n",
    "    \"\"\" Function returning bid value given numPlayers i.i.d sampling from uniform distribution, and minimum bid reserve\n",
    "    Args:\n",
    "        values: numpy array of players' private valuations\n",
    "        numPlayers: number of players\n",
    "    Returns:\n",
    "        list of float\n",
    "    \"\"\"\n",
    "    bids = []\n",
    "    # reserve = 1/(numPlayers+1)  # Optimal bid reserve is monopoly price\n",
    "    for v in values:\n",
    "        \n",
    "        bid = ((numPlayers -1)/numPlayers) * math.pow(v, numPlayers)\n",
    "        bids.append(bid)\n",
    "    return bids"
   ]
  },
  {
   "cell_type": "code",
   "execution_count": 21,
   "metadata": {},
   "outputs": [],
   "source": [
    "def allPayAuction(numPlayers):\n",
    "    \"\"\" Function simulating an all-pay auction\n",
    "    Args:\n",
    "        numPlayers: number of players in the auction\n",
    "    Returns:\n",
    "        \n",
    "    \"\"\"\n",
    "    playerVals = genPlayers(numPlayers)\n",
    "    playerBids = bidsFromValue(playerVals, numPlayers)\n",
    "    winnerIndex = playerBids.index(max(playerBids))\n",
    "    winnerBid = playerBids[winnerIndex]\n",
    "    sumOfLosers = 0\n",
    "    \n",
    "    for i in range(len(playerBids)):\n",
    "        if (i != winnerIndex):\n",
    "            sumOfLosers += playerBids[i]\n",
    "    return winnerBid, sumOfLosers"
   ]
  },
  {
   "cell_type": "code",
   "execution_count": 29,
   "metadata": {},
   "outputs": [],
   "source": [
    "iterations = 5000\n",
    "totPlayers = [2, 5, 10, 20, 50, 100, 200, 500, 1000, 2000]\n",
    "ratio = []\n",
    "\n",
    "for numPlayers in totPlayers:\n",
    "    winCtr = 0\n",
    "    for i in range(iterations):\n",
    "        W, L = allPayAuction(numPlayers)\n",
    "        if (W > L):\n",
    "            winCtr += 1\n",
    "    winCtr /= iterations\n",
    "    ratio.append(winCtr)"
   ]
  },
  {
   "cell_type": "code",
   "execution_count": 30,
   "metadata": {},
   "outputs": [
    {
     "data": {
      "text/plain": [
       "[1.0, 0.7582, 0.6702, 0.6062, 0.5772, 0.5684, 0.5792, 0.5498, 0.559, 0.5652]"
      ]
     },
     "execution_count": 30,
     "metadata": {},
     "output_type": "execute_result"
    }
   ],
   "source": [
    "ratio"
   ]
  },
  {
   "cell_type": "code",
   "execution_count": 45,
   "metadata": {},
   "outputs": [
    {
     "data": {
      "image/png": "[encoded data removed]",
      "text/plain": [
       "<Figure size 576x360 with 1 Axes>"
      ]
     },
     "metadata": {
      "needs_background": "light"
     },
     "output_type": "display_data"
    }
   ],
   "source": [
    "plt.figure(figsize=(8, 5))\n",
    "plt.subplot(111)\n",
    "xAxis = [str(x) for x in totPlayers]\n",
    "plt.bar(xAxis, ratio)\n",
    "plt.title('Fraction of Iterations where Winning Payment > Sum of Losers\\' Payments for n Players Over 5000 Iteratons')\n",
    "plt.show()"
   ]
  }
 ],
 "metadata": {
  "kernelspec": {
   "display_name": "Python 3",
   "language": "python",
   "name": "python3"
  },
  "language_info": {
   "codemirror_mode": {
    "name": "ipython",
    "version": 3
   },
   "file_extension": ".py",
   "mimetype": "text/x-python",
   "name": "python",
   "nbconvert_exporter": "python",
   "pygments_lexer": "ipython3",
   "version": "3.6.8"
  }
 },
 "nbformat": 4,
 "nbformat_minor": 2
}
